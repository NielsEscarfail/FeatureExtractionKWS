{
 "cells": [
  {
   "cell_type": "code",
   "execution_count": 3,
   "id": "c8d8ce11",
   "metadata": {},
   "outputs": [
    {
     "ename": "SyntaxError",
     "evalue": "unexpected EOF while parsing (perf_dataset.py, line 143)",
     "output_type": "error",
     "traceback": [
      "Traceback \u001B[0;36m(most recent call last)\u001B[0m:\n",
      "  File \u001B[1;32m\"/Users/nielsescarfail/opt/anaconda3/lib/python3.8/site-packages/IPython/core/interactiveshell.py\"\u001B[0m, line \u001B[1;32m3457\u001B[0m, in \u001B[1;35mrun_code\u001B[0m\n    exec(code_obj, self.user_global_ns, self.user_ns)\n",
      "\u001B[0;36m  File \u001B[0;32m\"/var/folders/3q/fbl9_qd90p1byh265hrll22c0000gn/T/ipykernel_20080/4247436597.py\"\u001B[0;36m, line \u001B[0;32m1\u001B[0;36m, in \u001B[0;35m<module>\u001B[0;36m\u001B[0m\n\u001B[0;31m    from once_for_all.evaluation.perf_dataset import PerformanceDataset\u001B[0m\n",
      "\u001B[0;36m  File \u001B[0;32m\"/Users/nielsescarfail/Desktop/SemesterProj/FeatureExtractionKWS/once_for_all/evaluation/perf_dataset.py\"\u001B[0;36m, line \u001B[0;32m143\u001B[0m\n\u001B[0;31m    \u001B[0m\n\u001B[0m    ^\u001B[0m\n\u001B[0;31mSyntaxError\u001B[0m\u001B[0;31m:\u001B[0m unexpected EOF while parsing\n"
     ]
    }
   ],
   "source": [
    "path = \"eval/src/mfcc.dict\""
   ]
  },
  {
   "cell_type": "code",
   "execution_count": null,
   "id": "2f315d97",
   "metadata": {},
   "outputs": [],
   "source": [
    "performance_dataset = PerformanceDataset(args.path)"
   ]
  }
 ],
 "metadata": {
  "kernelspec": {
   "display_name": "kwsenv",
   "language": "python",
   "name": "kwsenv"
  },
  "language_info": {
   "codemirror_mode": {
    "name": "ipython",
    "version": 3
   },
   "file_extension": ".py",
   "mimetype": "text/x-python",
   "name": "python",
   "nbconvert_exporter": "python",
   "pygments_lexer": "ipython3",
   "version": "3.8.12"
  }
 },
 "nbformat": 4,
 "nbformat_minor": 5
}