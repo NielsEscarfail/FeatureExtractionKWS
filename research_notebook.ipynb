{
 "cells": [
  {
   "cell_type": "code",
   "execution_count": 1,
   "outputs": [],
   "source": [
    "import pandas as pd\n",
    "import os"
   ],
   "metadata": {
    "collapsed": false,
    "pycharm": {
     "name": "#%%\n"
    }
   }
  },
  {
   "cell_type": "code",
   "execution_count": 2,
   "outputs": [],
   "source": [
    "model = 'dscnn' # dscnn wav2vec\n",
    "ft_extr = 'mfcc' #raw augmented mfcc"
   ],
   "metadata": {
    "collapsed": false,
    "pycharm": {
     "name": "#%%\n"
    }
   }
  },
  {
   "cell_type": "code",
   "execution_count": null,
   "outputs": [],
   "source": [],
   "metadata": {
    "collapsed": false,
    "pycharm": {
     "name": "#%%\n"
    }
   }
  },
  {
   "cell_type": "code",
   "execution_count": 3,
   "outputs": [
    {
     "data": {
      "text/plain": "   epochs  batch_size  silence_percentage  unknown_percentage  \\\n0      40          -1                10.0                10.0   \n\n   validation_percentage  testing_percentage  background_frequency  \\\n0                   10.0                10.0                     0   \n\n   background_volume criterion  initial_lr  ... window_size_samples  \\\n0                  0  CrossEnt       0.001  ...                 640   \n\n  feature_extraction_method  model_name  model_input_shape   test_acc  \\\n0                      mfcc       dscnn           {49, 10}  91.901089   \n\n     val_acc  run_test_sample_time  run_val_sample_time  time_get_train_batch  \\\n0  92.523131              0.007257             0.007565              0.844781   \n\n  time_get_val_batch  \n0           0.641427  \n\n[1 rows x 28 columns]",
      "text/html": "<div>\n<style scoped>\n    .dataframe tbody tr th:only-of-type {\n        vertical-align: middle;\n    }\n\n    .dataframe tbody tr th {\n        vertical-align: top;\n    }\n\n    .dataframe thead th {\n        text-align: right;\n    }\n</style>\n<table border=\"1\" class=\"dataframe\">\n  <thead>\n    <tr style=\"text-align: right;\">\n      <th></th>\n      <th>epochs</th>\n      <th>batch_size</th>\n      <th>silence_percentage</th>\n      <th>unknown_percentage</th>\n      <th>validation_percentage</th>\n      <th>testing_percentage</th>\n      <th>background_frequency</th>\n      <th>background_volume</th>\n      <th>criterion</th>\n      <th>initial_lr</th>\n      <th>...</th>\n      <th>window_size_samples</th>\n      <th>feature_extraction_method</th>\n      <th>model_name</th>\n      <th>model_input_shape</th>\n      <th>test_acc</th>\n      <th>val_acc</th>\n      <th>run_test_sample_time</th>\n      <th>run_val_sample_time</th>\n      <th>time_get_train_batch</th>\n      <th>time_get_val_batch</th>\n    </tr>\n  </thead>\n  <tbody>\n    <tr>\n      <th>0</th>\n      <td>40</td>\n      <td>-1</td>\n      <td>10.0</td>\n      <td>10.0</td>\n      <td>10.0</td>\n      <td>10.0</td>\n      <td>0</td>\n      <td>0</td>\n      <td>CrossEnt</td>\n      <td>0.001</td>\n      <td>...</td>\n      <td>640</td>\n      <td>mfcc</td>\n      <td>dscnn</td>\n      <td>{49, 10}</td>\n      <td>91.901089</td>\n      <td>92.523131</td>\n      <td>0.007257</td>\n      <td>0.007565</td>\n      <td>0.844781</td>\n      <td>0.641427</td>\n    </tr>\n  </tbody>\n</table>\n<p>1 rows × 28 columns</p>\n</div>"
     },
     "execution_count": 3,
     "metadata": {},
     "output_type": "execute_result"
    }
   ],
   "source": [
    "results_path = os.getcwd() + \"/models/trained_models/\" + model + \"_\" + ft_extr + \"/results.csv\"\n",
    "df = pd.read_csv(results_path)\n",
    "df"
   ],
   "metadata": {
    "collapsed": false,
    "pycharm": {
     "name": "#%%\n"
    }
   }
  },
  {
   "cell_type": "code",
   "execution_count": 4,
   "outputs": [],
   "source": [
    "models = ['dscnn', 'wav2vec', 'dscnn_maxpool', 'dscnn_avgpool', 'resnet']\n",
    "ft_extr_methods = ['mfcc', 'raw', 'augmented', 'mel_spectrogram', 'dwt']"
   ],
   "metadata": {
    "collapsed": false,
    "pycharm": {
     "name": "#%%\n"
    }
   }
  },
  {
   "cell_type": "code",
   "execution_count": 5,
   "outputs": [
    {
     "data": {
      "text/plain": "  epochs batch_size  silence_percentage  unknown_percentage  \\\n0     40         -1                10.0                10.0   \n\n   validation_percentage  testing_percentage background_frequency  \\\n0                   10.0                10.0                    0   \n\n  background_volume criterion  initial_lr  ... window_size_samples  \\\n0                 0  CrossEnt       0.001  ...                 640   \n\n  feature_extraction_method model_name model_input_shape   test_acc  \\\n0                      mfcc      dscnn          {49, 10}  91.901089   \n\n     val_acc run_test_sample_time run_val_sample_time time_get_train_batch  \\\n0  92.523131             0.007257            0.007565             0.844781   \n\n  time_get_val_batch  \n0           0.641427  \n\n[1 rows x 28 columns]",
      "text/html": "<div>\n<style scoped>\n    .dataframe tbody tr th:only-of-type {\n        vertical-align: middle;\n    }\n\n    .dataframe tbody tr th {\n        vertical-align: top;\n    }\n\n    .dataframe thead th {\n        text-align: right;\n    }\n</style>\n<table border=\"1\" class=\"dataframe\">\n  <thead>\n    <tr style=\"text-align: right;\">\n      <th></th>\n      <th>epochs</th>\n      <th>batch_size</th>\n      <th>silence_percentage</th>\n      <th>unknown_percentage</th>\n      <th>validation_percentage</th>\n      <th>testing_percentage</th>\n      <th>background_frequency</th>\n      <th>background_volume</th>\n      <th>criterion</th>\n      <th>initial_lr</th>\n      <th>...</th>\n      <th>window_size_samples</th>\n      <th>feature_extraction_method</th>\n      <th>model_name</th>\n      <th>model_input_shape</th>\n      <th>test_acc</th>\n      <th>val_acc</th>\n      <th>run_test_sample_time</th>\n      <th>run_val_sample_time</th>\n      <th>time_get_train_batch</th>\n      <th>time_get_val_batch</th>\n    </tr>\n  </thead>\n  <tbody>\n    <tr>\n      <th>0</th>\n      <td>40</td>\n      <td>-1</td>\n      <td>10.0</td>\n      <td>10.0</td>\n      <td>10.0</td>\n      <td>10.0</td>\n      <td>0</td>\n      <td>0</td>\n      <td>CrossEnt</td>\n      <td>0.001</td>\n      <td>...</td>\n      <td>640</td>\n      <td>mfcc</td>\n      <td>dscnn</td>\n      <td>{49, 10}</td>\n      <td>91.901089</td>\n      <td>92.523131</td>\n      <td>0.007257</td>\n      <td>0.007565</td>\n      <td>0.844781</td>\n      <td>0.641427</td>\n    </tr>\n  </tbody>\n</table>\n<p>1 rows × 28 columns</p>\n</div>"
     },
     "execution_count": 5,
     "metadata": {},
     "output_type": "execute_result"
    }
   ],
   "source": [
    "results_df = pd.DataFrame(columns=df.columns)\n",
    "for model in models:\n",
    "    for ft_extr in ft_extr_methods:\n",
    "        results_path = os.getcwd() + \"/models/trained_models/\" + model + \"_\" + ft_extr + \"/results.csv\"\n",
    "        try:\n",
    "            df = pd.read_csv(results_path)\n",
    "            results_df = results_df.append(df, ignore_index=True)\n",
    "        except:\n",
    "            pass\n",
    "\n",
    "results_df"
   ],
   "metadata": {
    "collapsed": false,
    "pycharm": {
     "name": "#%%\n"
    }
   }
  },
  {
   "cell_type": "code",
   "execution_count": null,
   "outputs": [],
   "source": [],
   "metadata": {
    "collapsed": false,
    "pycharm": {
     "name": "#%%\n"
    }
   }
  },
  {
   "cell_type": "code",
   "execution_count": null,
   "outputs": [],
   "source": [],
   "metadata": {
    "collapsed": false,
    "pycharm": {
     "name": "#%%\n"
    }
   }
  }
 ],
 "metadata": {
  "kernelspec": {
   "name": "kwsenv",
   "language": "python",
   "display_name": "kwsenv"
  },
  "language_info": {
   "codemirror_mode": {
    "name": "ipython",
    "version": 3
   },
   "file_extension": ".py",
   "mimetype": "text/x-python",
   "name": "python",
   "nbconvert_exporter": "python",
   "pygments_lexer": "ipython3",
   "version": "3.8.12"
  }
 },
 "nbformat": 4,
 "nbformat_minor": 1
}