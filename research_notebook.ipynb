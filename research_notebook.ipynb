{
 "cells": [
  {
   "cell_type": "code",
   "execution_count": 41,
   "metadata": {
    "pycharm": {
     "is_executing": true,
     "name": "#%%\n"
    }
   },
   "outputs": [
    {
     "name": "stdout",
     "output_type": "stream",
     "text": [
      "\n",
      "File:  nb-asr-e10-1234.pickle\n",
      "8242\n",
      "{'version': 1, 'search_space': {'ops': ['linear', 'conv5', 'conv5d2', 'conv7', 'conv7d2', 'zero'], 'nodes': 3, 'shape': [[6, 2], [6, 2, 2], [6, 2, 2, 2]]}, 'seed': 1234, 'epochs': 10, 'dataset_type': 'training', 'columns': ['model_hash', 'val_per', 'test_per', 'arch_vec']}\n",
      "['7b23d5980c2d91151af3dfcd98fce513', [0.6430896, 0.36368465, 0.30191937, 0.26333266, 0.2457993, 0.23856014, 0.23059042, 0.22819951, 0.22142525, 0.22335127], 0.23922383785247803, [(0, 0), (0, 0, 0), (0, 0, 0, 0)]]\n"
     ]
    }
   ],
   "source": [
    "import pandas as pd\n",
    "import os\n",
    "names = ['nb-asr-e5-1234.pickle', 'nb-asr-e10-1234.pickle','nb-asr-e40-1234.pickle','nb-asr-e40-1235.pickle', 'nb-asr-e40-1236.pickle', 'nb-asr-bench-jetson-nano-fp32.pickle', 'nb-asr-bench-gtx-1080ti-fp32.pickle']\n",
    "\n",
    "\n",
    "\n",
    "# for name in names:\n",
    "name = 'nb-asr-e10-1234.pickle'\n",
    "nbasr_path = os.getcwd() + \"/dataset/nbasr/\" + name\n",
    "with open(nbasr_path, 'rb') as f:\n",
    "    header = pickle.load(f)\n",
    "    data = pickle.load(f)\n",
    "    print(\"\\nFile: \", name)\n",
    "    \n",
    "    print(len(data))\n",
    "    print(header)\n",
    "    print(data[0])\n",
    "    \n",
    "def get_search_space(ops=None, nodes=None):\n",
    "    ''' Return boundaries of the search space for the given list\n",
    "        of available operations and number of nodes. \n",
    "    '''\n",
    "    ops = ops if ops is not None else all_ops\n",
    "    nodes = nodes if nodes is not None else default_nodes\n",
    "    search_space = [[len(ops)] + [2]*(idx+1) for idx in range(nodes)]\n",
    "    return search_space\n",
    "\n"
   ]
  },
  {
   "cell_type": "code",
   "execution_count": 43,
   "metadata": {
    "pycharm": {
     "name": "#%%\n"
    }
   },
   "outputs": [
    {
     "name": "stdout",
     "output_type": "stream",
     "text": [
      "{'version': 1, 'search_space': {'ops': ['linear', 'conv5', 'conv5d2', 'conv7', 'conv7d2', 'zero'], 'nodes': 3, 'shape': [[6, 2], [6, 2, 2], [6, 2, 2, 2]]}, 'seed': 1234, 'epochs': 10, 'dataset_type': 'training', 'columns': ['model_hash', 'val_per', 'test_per', 'arch_vec']}\n",
      "['7b23d5980c2d91151af3dfcd98fce513', [0.6430896, 0.36368465, 0.30191937, 0.26333266, 0.2457993, 0.23856014, 0.23059042, 0.22819951, 0.22142525, 0.22335127], 0.23922383785247803, [(0, 0), (0, 0, 0), (0, 0, 0, 0)]]\n",
      "['linear', 'conv5', 'conv5d2', 'conv7', 'conv7d2', 'zero']\n"
     ]
    }
   ],
   "source": [
    "print(header)\n",
    "print(data[0])\n",
    "print(header['search_space']['ops'])\n"
   ]
  },
  {
   "cell_type": "code",
   "execution_count": 32,
   "metadata": {
    "pycharm": {
     "name": "#%%\n"
    }
   },
   "outputs": [
    {
     "data": {
      "text/plain": [
       "[[6, 2], [6, 2, 2], [6, 2, 2, 2]]"
      ]
     },
     "execution_count": 32,
     "metadata": {},
     "output_type": "execute_result"
    }
   ],
   "source": [
    "ops = header['search_space']['ops']\n",
    "nodes = header['search_space']['nodes']\n",
    "\n",
    "get_search_space(ops, nodes)"
   ]
  },
  {
   "cell_type": "code",
   "execution_count": 37,
   "metadata": {
    "pycharm": {
     "name": "#%%\n"
    }
   },
   "outputs": [],
   "source": [
    "import collections\n",
    "def get_all_architectures(ops=None, nodes=None):\n",
    "    ''' Yields all architecture configurations in the search space\n",
    "    '''\n",
    "    search_space = get_search_space(ops, nodes)\n",
    "    flat = flatten(search_space)\n",
    "    cfg = [0 for _ in range(len(flat))]\n",
    "    end = False\n",
    "    while not end:\n",
    "        yield copy_structure(cfg, search_space)\n",
    "        for dim in range(len(flat)):\n",
    "            cfg[dim] += 1\n",
    "            if cfg[dim] != flat[dim]:\n",
    "                break\n",
    "            cfg[dim] = 0\n",
    "            if dim+1 >= len(flat):\n",
    "                end = True\n",
    "                \n",
    "def copy_structure(data, shape):\n",
    "    ''' Put data from ``data`` into nested containers like in ``shape``.\n",
    "        This can be seen as \"unflatten\" operation, i.e.:\n",
    "            seq == copy_structure(flatten(seq), seq)\n",
    "    '''\n",
    "    d_it = recursive_iter(data)\n",
    "\n",
    "    def copy_level(s):\n",
    "        if isinstance(s, collections.abc.Sequence):\n",
    "            return type(s)(copy_level(ss) for ss in s)\n",
    "        else:\n",
    "            return next(d_it)\n",
    "    return copy_level(shape)\n",
    "\n",
    "\n",
    "# utils to work with nested collections\n",
    "def recursive_iter(seq):\n",
    "    ''' Iterate over elements in seq recursively (returns only non-sequences)\n",
    "    '''\n",
    "    if isinstance(seq, collections.abc.Sequence):\n",
    "        for e in seq:\n",
    "            for v in recursive_iter(e):\n",
    "                yield v\n",
    "    else:\n",
    "        yield seq"
   ]
  },
  {
   "cell_type": "code",
   "execution_count": 38,
   "metadata": {
    "pycharm": {
     "name": "#%%\n"
    }
   },
   "outputs": [
    {
     "data": {
      "text/plain": [
       "<generator object get_all_architectures at 0x7fb94e27b040>"
      ]
     },
     "execution_count": 38,
     "metadata": {},
     "output_type": "execute_result"
    }
   ],
   "source": [
    "get_all_architectures(ops, nodes)"
   ]
  },
  {
   "cell_type": "code",
   "execution_count": null,
   "metadata": {
    "pycharm": {
     "name": "#%%\n"
    }
   },
   "outputs": [],
   "source": []
  },
  {
   "cell_type": "code",
   "execution_count": null,
   "metadata": {
    "pycharm": {
     "is_executing": true,
     "name": "#%%\n"
    }
   },
   "outputs": [],
   "source": [
    "import pandas as pd\n",
    "import os"
   ]
  },
  {
   "cell_type": "code",
   "execution_count": 4,
   "metadata": {
    "pycharm": {
     "name": "#%%\n"
    }
   },
   "outputs": [],
   "source": [
    "model = 'dscnn' # dscnn wav2vec\n",
    "ft_extr = 'mfcc' #raw augmented mfcc"
   ]
  },
  {
   "cell_type": "code",
   "execution_count": 4,
   "metadata": {
    "pycharm": {
     "name": "#%%\n"
    }
   },
   "outputs": [],
   "source": []
  },
  {
   "cell_type": "code",
   "execution_count": 5,
   "metadata": {
    "pycharm": {
     "name": "#%%\n"
    }
   },
   "outputs": [
    {
     "data": {
      "text/html": [
       "<div>\n",
       "<style scoped>\n",
       "    .dataframe tbody tr th:only-of-type {\n",
       "        vertical-align: middle;\n",
       "    }\n",
       "\n",
       "    .dataframe tbody tr th {\n",
       "        vertical-align: top;\n",
       "    }\n",
       "\n",
       "    .dataframe thead th {\n",
       "        text-align: right;\n",
       "    }\n",
       "</style>\n",
       "<table border=\"1\" class=\"dataframe\">\n",
       "  <thead>\n",
       "    <tr style=\"text-align: right;\">\n",
       "      <th></th>\n",
       "      <th>epochs</th>\n",
       "      <th>batch_size</th>\n",
       "      <th>silence_percentage</th>\n",
       "      <th>unknown_percentage</th>\n",
       "      <th>validation_percentage</th>\n",
       "      <th>testing_percentage</th>\n",
       "      <th>background_frequency</th>\n",
       "      <th>background_volume</th>\n",
       "      <th>criterion</th>\n",
       "      <th>initial_lr</th>\n",
       "      <th>...</th>\n",
       "      <th>window_size_samples</th>\n",
       "      <th>feature_extraction_method</th>\n",
       "      <th>model_name</th>\n",
       "      <th>model_input_shape</th>\n",
       "      <th>test_acc</th>\n",
       "      <th>val_acc</th>\n",
       "      <th>run_test_sample_time</th>\n",
       "      <th>run_val_sample_time</th>\n",
       "      <th>time_get_train_batch</th>\n",
       "      <th>time_get_val_batch</th>\n",
       "    </tr>\n",
       "  </thead>\n",
       "  <tbody>\n",
       "    <tr>\n",
       "      <th>0</th>\n",
       "      <td>40</td>\n",
       "      <td>-1</td>\n",
       "      <td>10.0</td>\n",
       "      <td>10.0</td>\n",
       "      <td>10.0</td>\n",
       "      <td>10.0</td>\n",
       "      <td>0</td>\n",
       "      <td>0</td>\n",
       "      <td>CrossEnt</td>\n",
       "      <td>0.001</td>\n",
       "      <td>...</td>\n",
       "      <td>640</td>\n",
       "      <td>mfcc</td>\n",
       "      <td>dscnn</td>\n",
       "      <td>{49, 10}</td>\n",
       "      <td>91.901089</td>\n",
       "      <td>92.523131</td>\n",
       "      <td>0.007257</td>\n",
       "      <td>0.007565</td>\n",
       "      <td>0.844781</td>\n",
       "      <td>0.641427</td>\n",
       "    </tr>\n",
       "  </tbody>\n",
       "</table>\n",
       "<p>1 rows × 28 columns</p>\n",
       "</div>"
      ],
      "text/plain": [
       "   epochs  batch_size  silence_percentage  unknown_percentage  \\\n",
       "0      40          -1                10.0                10.0   \n",
       "\n",
       "   validation_percentage  testing_percentage  background_frequency  \\\n",
       "0                   10.0                10.0                     0   \n",
       "\n",
       "   background_volume criterion  initial_lr  ... window_size_samples  \\\n",
       "0                  0  CrossEnt       0.001  ...                 640   \n",
       "\n",
       "  feature_extraction_method  model_name  model_input_shape   test_acc  \\\n",
       "0                      mfcc       dscnn           {49, 10}  91.901089   \n",
       "\n",
       "     val_acc  run_test_sample_time  run_val_sample_time  time_get_train_batch  \\\n",
       "0  92.523131              0.007257             0.007565              0.844781   \n",
       "\n",
       "  time_get_val_batch  \n",
       "0           0.641427  \n",
       "\n",
       "[1 rows x 28 columns]"
      ]
     },
     "execution_count": 5,
     "metadata": {},
     "output_type": "execute_result"
    }
   ],
   "source": [
    "results_path = os.getcwd() + \"/models/trained_models/\" + model + \"_\" + ft_extr + \"/results.csv\"\n",
    "df = pd.read_csv(results_path)\n",
    "df"
   ]
  },
  {
   "cell_type": "code",
   "execution_count": 6,
   "metadata": {
    "pycharm": {
     "name": "#%%\n"
    }
   },
   "outputs": [],
   "source": [
    "models = ['dscnn', 'wav2vec', 'dscnn_maxpool', 'dscnn_avgpool', 'resnet']\n",
    "ft_extr_methods = ['mfcc', 'raw', 'augmented', 'mel_spectrogram', 'dwt']"
   ]
  },
  {
   "cell_type": "code",
   "execution_count": 7,
   "metadata": {
    "pycharm": {
     "name": "#%%\n"
    }
   },
   "outputs": [
    {
     "data": {
      "text/html": [
       "<div>\n",
       "<style scoped>\n",
       "    .dataframe tbody tr th:only-of-type {\n",
       "        vertical-align: middle;\n",
       "    }\n",
       "\n",
       "    .dataframe tbody tr th {\n",
       "        vertical-align: top;\n",
       "    }\n",
       "\n",
       "    .dataframe thead th {\n",
       "        text-align: right;\n",
       "    }\n",
       "</style>\n",
       "<table border=\"1\" class=\"dataframe\">\n",
       "  <thead>\n",
       "    <tr style=\"text-align: right;\">\n",
       "      <th></th>\n",
       "      <th>epochs</th>\n",
       "      <th>batch_size</th>\n",
       "      <th>silence_percentage</th>\n",
       "      <th>unknown_percentage</th>\n",
       "      <th>validation_percentage</th>\n",
       "      <th>testing_percentage</th>\n",
       "      <th>background_frequency</th>\n",
       "      <th>background_volume</th>\n",
       "      <th>criterion</th>\n",
       "      <th>initial_lr</th>\n",
       "      <th>...</th>\n",
       "      <th>window_size_samples</th>\n",
       "      <th>feature_extraction_method</th>\n",
       "      <th>model_name</th>\n",
       "      <th>model_input_shape</th>\n",
       "      <th>test_acc</th>\n",
       "      <th>val_acc</th>\n",
       "      <th>run_test_sample_time</th>\n",
       "      <th>run_val_sample_time</th>\n",
       "      <th>time_get_train_batch</th>\n",
       "      <th>time_get_val_batch</th>\n",
       "    </tr>\n",
       "  </thead>\n",
       "  <tbody>\n",
       "    <tr>\n",
       "      <th>0</th>\n",
       "      <td>40</td>\n",
       "      <td>-1</td>\n",
       "      <td>10.0</td>\n",
       "      <td>10.0</td>\n",
       "      <td>10.0</td>\n",
       "      <td>10.0</td>\n",
       "      <td>0</td>\n",
       "      <td>0</td>\n",
       "      <td>CrossEnt</td>\n",
       "      <td>0.001</td>\n",
       "      <td>...</td>\n",
       "      <td>640</td>\n",
       "      <td>mfcc</td>\n",
       "      <td>dscnn</td>\n",
       "      <td>{49, 10}</td>\n",
       "      <td>91.901089</td>\n",
       "      <td>92.523131</td>\n",
       "      <td>0.007257</td>\n",
       "      <td>0.007565</td>\n",
       "      <td>0.844781</td>\n",
       "      <td>0.641427</td>\n",
       "    </tr>\n",
       "  </tbody>\n",
       "</table>\n",
       "<p>1 rows × 28 columns</p>\n",
       "</div>"
      ],
      "text/plain": [
       "  epochs batch_size  silence_percentage  unknown_percentage  \\\n",
       "0     40         -1                10.0                10.0   \n",
       "\n",
       "   validation_percentage  testing_percentage background_frequency  \\\n",
       "0                   10.0                10.0                    0   \n",
       "\n",
       "  background_volume criterion  initial_lr  ... window_size_samples  \\\n",
       "0                 0  CrossEnt       0.001  ...                 640   \n",
       "\n",
       "  feature_extraction_method model_name model_input_shape   test_acc  \\\n",
       "0                      mfcc      dscnn          {49, 10}  91.901089   \n",
       "\n",
       "     val_acc run_test_sample_time run_val_sample_time time_get_train_batch  \\\n",
       "0  92.523131             0.007257            0.007565             0.844781   \n",
       "\n",
       "  time_get_val_batch  \n",
       "0           0.641427  \n",
       "\n",
       "[1 rows x 28 columns]"
      ]
     },
     "execution_count": 7,
     "metadata": {},
     "output_type": "execute_result"
    }
   ],
   "source": [
    "results_df = pd.DataFrame(columns=df.columns)\n",
    "for model in models:\n",
    "    for ft_extr in ft_extr_methods:\n",
    "        results_path = os.getcwd() + \"/models/trained_models/\" + model + \"_\" + ft_extr + \"/results.csv\"\n",
    "        try:\n",
    "            df = pd.read_csv(results_path)\n",
    "            results_df = results_df.append(df, ignore_index=True)\n",
    "        except:\n",
    "            pass\n",
    "\n",
    "results_df"
   ]
  },
  {
   "cell_type": "code",
   "execution_count": 9,
   "metadata": {
    "pycharm": {
     "name": "#%%\n"
    }
   },
   "outputs": [],
   "source": [
    "model = 'wav2vec'\n",
    "ft_extr = 'raw'\n",
    "results_path = os.getcwd() + \"/models/trained_models/\" + model + \"_\" + ft_extr + \"/results_batch256.csv\""
   ]
  },
  {
   "cell_type": "code",
   "execution_count": 10,
   "metadata": {
    "pycharm": {
     "name": "#%%\n"
    }
   },
   "outputs": [
    {
     "data": {
      "text/html": [
       "<div>\n",
       "<style scoped>\n",
       "    .dataframe tbody tr th:only-of-type {\n",
       "        vertical-align: middle;\n",
       "    }\n",
       "\n",
       "    .dataframe tbody tr th {\n",
       "        vertical-align: top;\n",
       "    }\n",
       "\n",
       "    .dataframe thead th {\n",
       "        text-align: right;\n",
       "    }\n",
       "</style>\n",
       "<table border=\"1\" class=\"dataframe\">\n",
       "  <thead>\n",
       "    <tr style=\"text-align: right;\">\n",
       "      <th></th>\n",
       "      <th>epochs</th>\n",
       "      <th>batch_size</th>\n",
       "      <th>silence_percentage</th>\n",
       "      <th>unknown_percentage</th>\n",
       "      <th>validation_percentage</th>\n",
       "      <th>testing_percentage</th>\n",
       "      <th>background_frequency</th>\n",
       "      <th>background_volume</th>\n",
       "      <th>criterion</th>\n",
       "      <th>initial_lr</th>\n",
       "      <th>...</th>\n",
       "      <th>window_size_samples</th>\n",
       "      <th>feature_extraction_method</th>\n",
       "      <th>model_name</th>\n",
       "      <th>model_input_shape</th>\n",
       "      <th>test_acc</th>\n",
       "      <th>val_acc</th>\n",
       "      <th>run_test_sample_time</th>\n",
       "      <th>run_val_sample_time</th>\n",
       "      <th>time_get_train_batch</th>\n",
       "      <th>time_get_val_batch</th>\n",
       "    </tr>\n",
       "  </thead>\n",
       "  <tbody>\n",
       "    <tr>\n",
       "      <th>0</th>\n",
       "      <td>40</td>\n",
       "      <td>-1</td>\n",
       "      <td>10.0</td>\n",
       "      <td>10.0</td>\n",
       "      <td>10.0</td>\n",
       "      <td>10.0</td>\n",
       "      <td>0</td>\n",
       "      <td>0</td>\n",
       "      <td>CrossEnt</td>\n",
       "      <td>0.001</td>\n",
       "      <td>...</td>\n",
       "      <td>640</td>\n",
       "      <td>mfcc</td>\n",
       "      <td>dscnn</td>\n",
       "      <td>{49, 10}</td>\n",
       "      <td>91.901089</td>\n",
       "      <td>92.523131</td>\n",
       "      <td>0.007257</td>\n",
       "      <td>0.007565</td>\n",
       "      <td>0.844781</td>\n",
       "      <td>0.641427</td>\n",
       "    </tr>\n",
       "    <tr>\n",
       "      <th>1</th>\n",
       "      <td>40</td>\n",
       "      <td>256</td>\n",
       "      <td>10.0</td>\n",
       "      <td>10.0</td>\n",
       "      <td>10.0</td>\n",
       "      <td>10.0</td>\n",
       "      <td>0</td>\n",
       "      <td>0</td>\n",
       "      <td>CrossEnt</td>\n",
       "      <td>0.001</td>\n",
       "      <td>...</td>\n",
       "      <td>640</td>\n",
       "      <td>raw</td>\n",
       "      <td>wav2vec</td>\n",
       "      <td>16000</td>\n",
       "      <td>96.484375</td>\n",
       "      <td>97.656250</td>\n",
       "      <td>0.003976</td>\n",
       "      <td>0.004615</td>\n",
       "      <td>0.022522</td>\n",
       "      <td>0.007729</td>\n",
       "    </tr>\n",
       "    <tr>\n",
       "      <th>2</th>\n",
       "      <td>40</td>\n",
       "      <td>512</td>\n",
       "      <td>10.0</td>\n",
       "      <td>10.0</td>\n",
       "      <td>10.0</td>\n",
       "      <td>10.0</td>\n",
       "      <td>0</td>\n",
       "      <td>0</td>\n",
       "      <td>CrossEnt</td>\n",
       "      <td>0.001</td>\n",
       "      <td>...</td>\n",
       "      <td>640</td>\n",
       "      <td>raw</td>\n",
       "      <td>wav2vec</td>\n",
       "      <td>16000</td>\n",
       "      <td>97.070312</td>\n",
       "      <td>96.484375</td>\n",
       "      <td>0.003427</td>\n",
       "      <td>0.003893</td>\n",
       "      <td>0.022816</td>\n",
       "      <td>0.007660</td>\n",
       "    </tr>\n",
       "  </tbody>\n",
       "</table>\n",
       "<p>3 rows × 28 columns</p>\n",
       "</div>"
      ],
      "text/plain": [
       "  epochs batch_size  silence_percentage  unknown_percentage  \\\n",
       "0     40         -1                10.0                10.0   \n",
       "1     40        256                10.0                10.0   \n",
       "2     40        512                10.0                10.0   \n",
       "\n",
       "   validation_percentage  testing_percentage background_frequency  \\\n",
       "0                   10.0                10.0                    0   \n",
       "1                   10.0                10.0                    0   \n",
       "2                   10.0                10.0                    0   \n",
       "\n",
       "  background_volume criterion  initial_lr  ... window_size_samples  \\\n",
       "0                 0  CrossEnt       0.001  ...                 640   \n",
       "1                 0  CrossEnt       0.001  ...                 640   \n",
       "2                 0  CrossEnt       0.001  ...                 640   \n",
       "\n",
       "  feature_extraction_method model_name model_input_shape   test_acc  \\\n",
       "0                      mfcc      dscnn          {49, 10}  91.901089   \n",
       "1                       raw    wav2vec             16000  96.484375   \n",
       "2                       raw    wav2vec             16000  97.070312   \n",
       "\n",
       "     val_acc run_test_sample_time run_val_sample_time time_get_train_batch  \\\n",
       "0  92.523131             0.007257            0.007565             0.844781   \n",
       "1  97.656250             0.003976            0.004615             0.022522   \n",
       "2  96.484375             0.003427            0.003893             0.022816   \n",
       "\n",
       "  time_get_val_batch  \n",
       "0           0.641427  \n",
       "1           0.007729  \n",
       "2           0.007660  \n",
       "\n",
       "[3 rows x 28 columns]"
      ]
     },
     "execution_count": 10,
     "metadata": {},
     "output_type": "execute_result"
    }
   ],
   "source": [
    "results_path = os.getcwd() + \"/models/trained_models/\" + model + \"_\" + ft_extr + \"/results_batch256.csv\"\n",
    "df = pd.read_csv(results_path)\n",
    "results_df = results_df.append(df, ignore_index=True)\n",
    "\n",
    "results_path = os.getcwd() + \"/models/trained_models/\" + model + \"_\" + ft_extr + \"/results_batch512.csv\"\n",
    "df = pd.read_csv(results_path)\n",
    "results_df = results_df.append(df, ignore_index=True)\n",
    "\n",
    "results_df"
   ]
  },
  {
   "cell_type": "code",
   "execution_count": null,
   "metadata": {
    "pycharm": {
     "name": "#%%\n"
    }
   },
   "outputs": [],
   "source": []
  }
 ],
 "metadata": {
  "kernelspec": {
   "display_name": "kwsenv",
   "language": "python",
   "name": "kwsenv"
  },
  "language_info": {
   "codemirror_mode": {
    "name": "ipython",
    "version": 3
   },
   "file_extension": ".py",
   "mimetype": "text/x-python",
   "name": "python",
   "nbconvert_exporter": "python",
   "pygments_lexer": "ipython3",
   "version": "3.8.12"
  }
 },
 "nbformat": 4,
 "nbformat_minor": 1
}
